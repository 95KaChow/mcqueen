{
 "cells": [
  {
   "cell_type": "markdown",
   "id": "7e94208a",
   "metadata": {},
   "source": [
    "# Menu Driven Program to print series\n",
    "1. 1 2 3 4\n",
    "   1 2 3\n",
    "   1 2\n",
    "   1\n",
    "\n",
    "2. C\n",
    "   C O\n",
    "   C O M\n",
    "   C O M P\n",
    "   C O M P Ua\n",
    "   C O M P U T\n",
    "   C O M P U T E\n",
    "   C O M P U T E R"
   ]
  },
  {
   "cell_type": "code",
   "execution_count": 37,
   "id": "f2a9f642",
   "metadata": {},
   "outputs": [
    {
     "name": "stdout",
     "output_type": "stream",
     "text": [
      "1 2 3 4 \n",
      "1 2 3 \n",
      "1 2 \n",
      "1 \n",
      "\n",
      "C \n",
      "C O \n",
      "C O M \n",
      "C O M P \n",
      "C O M P U \n",
      "C O M P U T \n",
      "C O M P U T E \n",
      "C O M P U T E R \n"
     ]
    }
   ],
   "source": [
    "i=1\n",
    "k=1\n",
    "while (i<=4):\n",
    "    j=4\n",
    "    k=1\n",
    "    while (j>=i):\n",
    "        print(k, end=\" \")\n",
    "        k+=1\n",
    "        j-=1\n",
    "    print()\n",
    "    i+=1\n",
    "\n",
    "s=\"COMPUTER\"\n",
    "for i in range (len(s)+1):\n",
    "    for j in range (i):\n",
    "        print(s[j],end=\" \")\n",
    "        j+=1\n",
    "    print()\n",
    "    i+=1"
   ]
  },
  {
   "cell_type": "markdown",
   "id": "e724a083",
   "metadata": {},
   "source": [
    "# Program to search for a specific item from a list and display the appropriate message"
   ]
  },
  {
   "cell_type": "code",
   "execution_count": 38,
   "id": "ce94f7d0",
   "metadata": {},
   "outputs": [
    {
     "name": "stdout",
     "output_type": "stream",
     "text": [
      "\n",
      "Enter the size of list\n",
      "4\n",
      "\n",
      "Enter element\n",
      "qwerty\n",
      "\n",
      "Enter element\n",
      "12\n",
      "\n",
      "Enter element\n",
      "15af\n",
      "\n",
      "Enter element\n",
      "python\n",
      "\n",
      "Enter element to search\n",
      "python\n",
      "python  is present in the list\n"
     ]
    }
   ],
   "source": [
    "siz=int(input(\"\\nEnter the size of list\\n\"))\n",
    "a=[]\n",
    "i=0\n",
    "while(i<siz):\n",
    "    temp=input(\"\\nEnter element\\n\")\n",
    "    a.append(temp)\n",
    "    i+=1\n",
    "ser=input(\"\\nEnter element to search\\n\")\n",
    "if ser in a:\n",
    "    print(ser, \" is present in the list\")\n",
    "else:\n",
    "    print(ser, \" is not present in the list \")"
   ]
  }
 ],
 "metadata": {
  "kernelspec": {
   "display_name": "Python 3 (ipykernel)",
   "language": "python",
   "name": "python3"
  },
  "language_info": {
   "codemirror_mode": {
    "name": "ipython",
    "version": 3
   },
   "file_extension": ".py",
   "mimetype": "text/x-python",
   "name": "python",
   "nbconvert_exporter": "python",
   "pygments_lexer": "ipython3",
   "version": "3.9.13"
  }
 },
 "nbformat": 4,
 "nbformat_minor": 5
}
