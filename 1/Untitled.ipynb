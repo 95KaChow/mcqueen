{
 "cells": [
  {
   "cell_type": "code",
   "execution_count": 3,
   "id": "581646b5",
   "metadata": {},
   "outputs": [
    {
     "name": "stdout",
     "output_type": "stream",
     "text": [
      "enter the size of list 5\n",
      "Enter element2\n",
      "Enter element7\n",
      "Enter element3\n",
      "Enter element8\n",
      "Enter element9\n",
      "2 7 3 8 9\n"
     ]
    }
   ],
   "source": [
    "# siz=int(input(\"enter the size of list \"))\n",
    "# a=[]\n",
    "# i=0\n",
    "# while(i<siz):\n",
    "#     temp=int(input(\"Enter element\"))\n",
    "#     a.append(temp)\n",
    "#     i+=1\n",
    "# print(*a)"
   ]
  },
  {
   "cell_type": "code",
   "execution_count": 9,
   "id": "1fdb86f9",
   "metadata": {},
   "outputs": [
    {
     "name": "stdout",
     "output_type": "stream",
     "text": [
      "Enter number of elements1\n",
      "Enter The Key1\n",
      "Enter The Valuew\n",
      "{'1': 'w'}\n"
     ]
    }
   ],
   "source": [
    "# a={}\n",
    "# siz=int(input(\"Enter number of elements\"))\n",
    "# for i in range (siz):\n",
    "#     k=input(\"Enter The Key\")\n",
    "#     v=input(\"Enter The Value\")\n",
    "#     a.update({k:v})\n",
    "# print(a)"
   ]
  },
  {
   "cell_type": "code",
   "execution_count": 10,
   "id": "c0e7b994",
   "metadata": {},
   "outputs": [
    {
     "name": "stdout",
     "output_type": "stream",
     "text": [
      "Enter number of elements5\n",
      "Enter the element7\n",
      "Enter the element8\n",
      "Enter the element9\n",
      "Enter the element4\n",
      "Enter the element5\n",
      "(7, 8, 9, 4, 5)\n",
      "<class 'tuple'>\n"
     ]
    }
   ],
   "source": [
    "# a=[]\n",
    "# siz=int(input(\"Enter number of elements\"))\n",
    "# for i in range (siz):\n",
    "#     a.append(int(input(\"Enter the element\")))\n",
    "# b=tuple(a)\n",
    "# print(b)\n",
    "# print(type(b))"
   ]
  },
  {
   "cell_type": "code",
   "execution_count": 26,
   "id": "5c8e31a3",
   "metadata": {},
   "outputs": [
    {
     "name": "stdout",
     "output_type": "stream",
     "text": [
      "('1', '2', '3', '4', '5', '5')\n",
      "['1', '2', '3', '4', '5', '5']\n",
      "{'key0': 'val0', 'key1': 'val1', 'key2': 'val2'}\n",
      "(('key0', 'val0'), ('key1', 'val1'), ('key2', 'val2'))\n"
     ]
    }
   ],
   "source": [
    "l=[\"1\",\"2\",\"3\",\"4\",\"5\",\"5\"]\n",
    "l_tuple=tuple(l)\n",
    "print(l_tuple)\n",
    "l_list=list(l_tuple)\n",
    "print(l_list)\n",
    "d={\n",
    "    \"key0\":\"val0\",\n",
    "    \"key1\":\"val1\",\n",
    "    \"key2\":\"val2\"\n",
    "}\n",
    "# print(list(d))\n",
    "d_key=list(d.keys())\n",
    "d_val=list(d.values())\n",
    "d_dict=dict(\n",
    "    zip(\n",
    "    d_key,d_val\n",
    "    )\n",
    ")\n",
    "print(d_dict)\n",
    "d_tup=tuple(\n",
    "    zip(\n",
    "    d_key,d_val\n",
    "    )\n",
    ")\n",
    "print(d_tup)"
   ]
  }
 ],
 "metadata": {
  "kernelspec": {
   "display_name": "Python 3 (ipykernel)",
   "language": "python",
   "name": "python3"
  },
  "language_info": {
   "codemirror_mode": {
    "name": "ipython",
    "version": 3
   },
   "file_extension": ".py",
   "mimetype": "text/x-python",
   "name": "python",
   "nbconvert_exporter": "python",
   "pygments_lexer": "ipython3",
   "version": "3.9.13"
  }
 },
 "nbformat": 4,
 "nbformat_minor": 5
}
